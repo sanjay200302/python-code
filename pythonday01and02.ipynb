{
 "cells": [
  {
   "cell_type": "code",
   "execution_count": 1,
   "id": "23a76326-a747-46bf-9afb-d255f2aeceea",
   "metadata": {},
   "outputs": [
    {
     "name": "stdout",
     "output_type": "stream",
     "text": [
      "HELLO\n"
     ]
    }
   ],
   "source": [
    "print(\"HELLO\");                      #15/04/2024"
   ]
  },
  {
   "cell_type": "code",
   "execution_count": 2,
   "id": "cd0d5703-6ff0-4225-8a40-1e472214448b",
   "metadata": {},
   "outputs": [
    {
     "name": "stdout",
     "output_type": "stream",
     "text": [
      "<class 'int'>\n",
      "<class 'float'>\n",
      "<class 'str'>\n"
     ]
    }
   ],
   "source": [
    "a=10\n",
    "b=2.3\n",
    "c=\"b\"\n",
    "print(type(a))\n",
    "print(type(b))\n",
    "print(type(c))\n"
   ]
  },
  {
   "cell_type": "code",
   "execution_count": 3,
   "id": "6365ddb1-320a-421b-81e3-70ffee3af784",
   "metadata": {},
   "outputs": [
    {
     "name": "stdout",
     "output_type": "stream",
     "text": [
      "10\n",
      "<class 'int'>\n"
     ]
    }
   ],
   "source": [
    "a=10\n",
    "print(a)\n",
    "print(type(a))\n",
    "      "
   ]
  },
  {
   "cell_type": "code",
   "execution_count": 4,
   "id": "4cb3a975-a9f5-4c5f-a608-3ea967788da5",
   "metadata": {},
   "outputs": [
    {
     "name": "stdout",
     "output_type": "stream",
     "text": [
      "10.2\n",
      "<class 'float'>\n"
     ]
    }
   ],
   "source": [
    "a=10.2\n",
    "print(a)\n",
    "print(type(a))\n",
    "      "
   ]
  },
  {
   "cell_type": "code",
   "execution_count": 5,
   "id": "238cc5e7-de36-4dc6-af30-25e14c2b34b8",
   "metadata": {},
   "outputs": [
    {
     "name": "stdout",
     "output_type": "stream",
     "text": [
      "a\n",
      "<class 'str'>\n"
     ]
    }
   ],
   "source": [
    "a=\"a\"\n",
    "print(a)\n",
    "print(type(a))\n",
    "      "
   ]
  },
  {
   "cell_type": "code",
   "execution_count": 6,
   "id": "395d2563-3d0d-47a8-85c1-cb1c2085d5a5",
   "metadata": {},
   "outputs": [
    {
     "name": "stdout",
     "output_type": "stream",
     "text": [
      "abcdefgh\n"
     ]
    }
   ],
   "source": [
    "a=\"abcd\"\n",
    "b=\"efgh\"\n",
    "c= a+  b\n",
    "print(c)"
   ]
  },
  {
   "cell_type": "code",
   "execution_count": 7,
   "id": "fd869c9e-a360-4c71-8adf-e267836484d0",
   "metadata": {},
   "outputs": [
    {
     "name": "stdout",
     "output_type": "stream",
     "text": [
      "125.61156260162602\n",
      "<class 'int'>\n",
      "<class 'float'>\n",
      "<class 'float'>\n"
     ]
    }
   ],
   "source": [
    "a=123\n",
    "b=321.2222\n",
    "d=a\n",
    "c=a+b/d\n",
    "print(c)\n",
    "print(type(a))\n",
    "print(type(b))\n",
    "print(type(c))\n"
   ]
  },
  {
   "cell_type": "code",
   "execution_count": 38,
   "id": "1aea0200-9de8-4502-b1c7-d91e91371b0b",
   "metadata": {},
   "outputs": [
    {
     "name": "stdin",
     "output_type": "stream",
     "text": [
      "10 3\n",
      "1020 2\n",
      "20 1\n"
     ]
    },
    {
     "name": "stdout",
     "output_type": "stream",
     "text": [
      "('3', '2', '1')\n"
     ]
    }
   ],
   "source": [
    "a=input(a)\n",
    "c=input(c)\n",
    "b=input(b)\n",
    "d=a,c,b,\n",
    "print(d)\n"
   ]
  },
  {
   "cell_type": "code",
   "execution_count": 2,
   "id": "3eed5c0a-d57e-4337-aa27-9f1bd5930a8b",
   "metadata": {},
   "outputs": [
    {
     "name": "stdin",
     "output_type": "stream",
     "text": [
      "enter the name: s\n",
      "enter the age: 19\n"
     ]
    },
    {
     "name": "stdout",
     "output_type": "stream",
     "text": [
      "s\n",
      "eligible\n"
     ]
    }
   ],
   "source": [
    "name  = input(\"enter the name:\")\n",
    "age = int(input(\"enter the age:\" ))\n",
    "if(age>=18):\n",
    "    print(name)\n",
    "    print(\"eligible\")\n",
    "else:\n",
    "    print(\"not eligible\")\n",
    "    \n",
    "    \n",
    "    \n"
   ]
  },
  {
   "cell_type": "code",
   "execution_count": 2,
   "id": "b72d7140-d14f-4d58-9652-8bce0cf88410",
   "metadata": {},
   "outputs": [
    {
     "name": "stdin",
     "output_type": "stream",
     "text": [
      "enter the name: sfvgh\n",
      "enter the age: 17\n"
     ]
    },
    {
     "name": "stdout",
     "output_type": "stream",
     "text": [
      "not eligible\n"
     ]
    }
   ],
   "source": [
    "name  = input(\"enter the name:\")\n",
    "age = int(input(\"enter the age:\" ))\n",
    "\n",
    "if(age>=18):\n",
    "    print(name)\n",
    "    print(\"eligible\")\n",
    "else:\n",
    "    print(\"not eligible\")\n",
    "    \n",
    "    \n",
    "    \n"
   ]
  },
  {
   "cell_type": "code",
   "execution_count": 6,
   "id": "6af8707d-0620-456c-8412-beb3614de676",
   "metadata": {},
   "outputs": [
    {
     "name": "stdin",
     "output_type": "stream",
     "text": [
      "enter the n 33\n",
      "enter the m 44\n"
     ]
    },
    {
     "name": "stdout",
     "output_type": "stream",
     "text": [
      " greater is 44\n"
     ]
    }
   ],
   "source": [
    "#grater between two number \n",
    "n = int(input(\"enter the n\"))\n",
    "m = int(input(\"enter the m\"))\n",
    "if(m>n):\n",
    "    print(\" greater is\",m)\n",
    "    \n",
    "else:\n",
    "    print(\"greater is\",n)\n",
    "    \n",
    "    "
   ]
  },
  {
   "cell_type": "code",
   "execution_count": null,
   "id": "8f4797da-b3d8-495f-898b-4b6314b7a7ae",
   "metadata": {},
   "outputs": [],
   "source": [
    "#greater betweeen 3 number\n",
    "a=int(input(\"a\"))\n",
    "b=int(input (\"b\"))\n",
    "c=int(input(\"c\"))\n",
    "if(a>b):\n",
    "    if(a>c):\n",
    "        print(\"a is greater\")\n",
    "    else:\n",
    "        print(\"c is greater\")\n",
    "if(b>a):\n",
    "    if (b>c):\n",
    "        print(\"b is greater\")\n",
    "    else:\n",
    "        print(\"c is greater\")\n"
   ]
  },
  {
   "cell_type": "code",
   "execution_count": null,
   "id": "ca5200f3-17d1-4136-ab62-3874eda76c03",
   "metadata": {},
   "outputs": [],
   "source": [
    "#greater betweeen 3 number\n",
    "a=(input(\"a\"))\n",
    "b=(input (\"b\"))\n",
    "c=(input(\"c\"))\n",
    "if(a>b):\n",
    "    if(a>c):\n",
    "        print(\"a is greater\")\n",
    "if(b>a):\n",
    "    if (b>c):\n",
    "        print(\"b is greater\")\n",
    "    else:\n",
    "        print(\"c is greater\")"
   ]
  },
  {
   "cell_type": "code",
   "execution_count": 3,
   "id": "b4974874-a95b-42d6-b4dc-aa82a74a15ff",
   "metadata": {},
   "outputs": [
    {
     "name": "stdin",
     "output_type": "stream",
     "text": [
      "enter the marks 20\n"
     ]
    },
    {
     "name": "stdout",
     "output_type": "stream",
     "text": [
      "grade = F\n"
     ]
    }
   ],
   "source": [
    "marks = int(input(\"enter the marks\"))\n",
    "\n",
    "if marks >= 90 and marks < 100:\n",
    "    print(\"grade = A+\")\n",
    "else:\n",
    "    if marks >= 80 and marks < 90:\n",
    "        print(\"grade = A\")\n",
    "    else:\n",
    "        if marks >= 70 and marks < 80:\n",
    "            print(\"grade = B+\")\n",
    "        else:\n",
    "            if marks >= 60 and marks < 70:\n",
    "                print(\"grade = B\")\n",
    "            else:\n",
    "                if marks >= 50 and marks < 60:\n",
    "                    print(\"grade = C\")\n",
    "                else:\n",
    "                    if marks >= 40 and marks < 50:\n",
    "                        print(\"grade = D\")\n",
    "                    else:\n",
    "                        if marks >= 30 and marks < 40:\n",
    "                            print(\"grade = E\")\n",
    "                        else:\n",
    "                            if marks >= 0 and marks < 30:\n",
    "                                print(\"grade = F\")\n",
    "                            else:\n",
    "                                print(\"invalid marks\")"
   ]
  },
  {
   "cell_type": "code",
   "execution_count": 13,
   "id": "e170378d-6e9d-4527-9143-71acd1f818ff",
   "metadata": {},
   "outputs": [
    {
     "name": "stdin",
     "output_type": "stream",
     "text": [
      "enter the age of person 33\n"
     ]
    },
    {
     "name": "stdout",
     "output_type": "stream",
     "text": [
      "birth of human \n",
      "\n"
     ]
    },
    {
     "name": "stdin",
     "output_type": "stream",
     "text": [
      "enter the date of birth  09/02/1998\n"
     ]
    },
    {
     "name": "stdout",
     "output_type": "stream",
     "text": [
      "09/02/1998\n"
     ]
    }
   ],
   "source": [
    "#human lifecycle:\n",
    "\n",
    "cycle=int(input(\"enter the age of person\"))\n",
    "if cycle>102:\n",
    "    print(\"chanches of death\")\n",
    "else:\n",
    "    print(\"birth of human \\n\" )\n",
    "    birth=input(\"enter the date of birth \")\n",
    "    print(birth)\n"
   ]
  },
  {
   "cell_type": "code",
   "execution_count": 26,
   "id": "63270be2-2f19-4218-8f87-0422351b064f",
   "metadata": {},
   "outputs": [
    {
     "name": "stdin",
     "output_type": "stream",
     "text": [
      "enter the no's of ittreation 20\n"
     ]
    },
    {
     "name": "stdout",
     "output_type": "stream",
     "text": [
      "\n",
      "*\n",
      "**\n",
      "***\n",
      "****\n",
      "*****\n",
      "******\n",
      "*******\n",
      "********\n",
      "*********\n",
      "**********\n",
      "***********\n",
      "************\n",
      "*************\n",
      "**************\n",
      "***************\n",
      "****************\n",
      "*****************\n",
      "******************\n",
      "*******************\n"
     ]
    }
   ],
   "source": [
    "a=int(input(\"enter the no's of ittreation\"))\n",
    "for i in range(0,a):\n",
    "    for j in range(0,i):\n",
    "        print(\"*\",end='')\n",
    "    print('')\n",
    "    "
   ]
  },
  {
   "cell_type": "code",
   "execution_count": 7,
   "id": "917aaa5f-552f-42cb-b4f5-05016daa19e9",
   "metadata": {},
   "outputs": [
    {
     "name": "stdin",
     "output_type": "stream",
     "text": [
      "enter the number of element 10\n"
     ]
    },
    {
     "name": "stdout",
     "output_type": "stream",
     "text": [
      "0 2 2\n",
      "4\n",
      "6\n",
      "10\n",
      "16\n",
      "26\n",
      "42\n",
      "68\n"
     ]
    }
   ],
   "source": [
    "#fibinosis\n",
    "a=0\n",
    "b=2\n",
    "n= int (input (\"enter the number of element\"))\n",
    "print(a,b,end=\" \") \n",
    "for x in range (0,n-2):\n",
    "    c=a+b\n",
    "    a=b\n",
    "    b=c\n",
    "    print(c)\n",
    "\n"
   ]
  },
  {
   "cell_type": "code",
   "execution_count": 29,
   "id": "4bf4529d-3530-4938-8ddf-a8f613264244",
   "metadata": {},
   "outputs": [
    {
     "name": "stdin",
     "output_type": "stream",
     "text": [
      " 10\n",
      " 10\n"
     ]
    },
    {
     "name": "stdout",
     "output_type": "stream",
     "text": [
      "20\n",
      "17\n"
     ]
    }
   ],
   "source": [
    "#function \n",
    "def  abcd(a,b=7):      #def= defination #def  abcd here def is a function defination  and abcd is a function \n",
    "    c=a+b\n",
    "    print(c)\n",
    "    return \n",
    "A= int (input())\n",
    "B= int (input ())\n",
    "abcd(A,B)\n",
    "abcd(A)"
   ]
  },
  {
   "cell_type": "markdown",
   "id": "5ab9cac2-32f1-4263-9f5d-d1eb51d30701",
   "metadata": {},
   "source": []
  }
 ],
 "metadata": {
  "kernelspec": {
   "display_name": "Python 3 (ipykernel)",
   "language": "python",
   "name": "python3"
  },
  "language_info": {
   "codemirror_mode": {
    "name": "ipython",
    "version": 3
   },
   "file_extension": ".py",
   "mimetype": "text/x-python",
   "name": "python",
   "nbconvert_exporter": "python",
   "pygments_lexer": "ipython3",
   "version": "3.12.3"
  }
 },
 "nbformat": 4,
 "nbformat_minor": 5
}
