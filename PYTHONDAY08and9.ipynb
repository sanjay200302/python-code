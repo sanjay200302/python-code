{
 "cells": [
  {
   "cell_type": "code",
   "execution_count": 14,
   "id": "cb0e9e70-aa1e-4966-9c62-8d94b1631250",
   "metadata": {},
   "outputs": [
    {
     "name": "stdout",
     "output_type": "stream",
     "text": [
      "the biggest sum of 3  concegative number: 19\n"
     ]
    }
   ],
   "source": [
    "L=[2,4,6,1,3,7,4,6,9,3,6,8,3,6,4,1,3,9,6,4,5,6,8,3,7,3,6,8]\n",
    "#\n",
    "#find the  maximu SUM of any 3 consecutive elements of this array\n",
    "for i in range (0,len(L)-2):\n",
    "    sum=L[i]+L[i+1]+L[i+2]\n",
    "    max_sum=max(max_sum,sum)\n",
    "\n",
    "\n",
    "print(\"the biggest sum of 3  concegative number:\",max_sum)"
   ]
  },
  {
   "cell_type": "code",
   "execution_count": 12,
   "id": "4eef8ce9-3813-4a98-821e-b73efc1604e9",
   "metadata": {},
   "outputs": [
    {
     "ename": "SyntaxError",
     "evalue": "incomplete input (1929472298.py, line 8)",
     "output_type": "error",
     "traceback": [
      "\u001b[1;36m  Cell \u001b[1;32mIn[12], line 8\u001b[1;36m\u001b[0m\n\u001b[1;33m    \u001b[0m\n\u001b[1;37m    ^\u001b[0m\n\u001b[1;31mSyntaxError\u001b[0m\u001b[1;31m:\u001b[0m incomplete input\n"
     ]
    }
   ],
   "source": [
    "L=[2,4,6,1,3,7,4,6,9,3,6,8,3,6,4,1,3,9,6,4,5,6,8,3,7,3,6,8]\n",
    "n=len(L)\n",
    "sn==0\n",
    "for i in range (0,n):\n",
    "    for j in range(i+1,n):\n",
    "        for k in range (j+1,n):\n",
    "        \n",
    "            "
   ]
  },
  {
   "cell_type": "code",
   "execution_count": 22,
   "id": "7ee73105-87cd-4328-b71e-a265e9608402",
   "metadata": {},
   "outputs": [
    {
     "name": "stdout",
     "output_type": "stream",
     "text": [
      "the biggest sum of 6 concegative number: 38\n"
     ]
    }
   ],
   "source": [
    "L=[2,4,6,1,3,7,4,6,9,3,6,8,3,6,4,1,3,9,6,4,5,6,8,3,7,3,6,8]\n",
    "#n=int(input(\"enter the number of consecative\"))\n",
    "#find the  maximu SUM of any n consecutive elements of this array\n",
    "for i in range (0,len(L)-5):\n",
    "    sum=L[i]+L[i+1]+L[i+2]+L[i+3]+L[i+4]+L[i+5]\n",
    "    max_sum=max(max_sum,sum)\n",
    "\n",
    "\n",
    "print(\"the biggest sum of 6 concegative number:\",max_sum)"
   ]
  },
  {
   "cell_type": "code",
   "execution_count": 42,
   "id": "41dc16eb-d1a2-4ee2-a7e3-999ad0f84e2f",
   "metadata": {},
   "outputs": [
    {
     "name": "stdin",
     "output_type": "stream",
     "text": [
      "enter the number of concative : 5\n"
     ]
    },
    {
     "name": "stdout",
     "output_type": "stream",
     "text": [
      "56\n",
      "127\n"
     ]
    }
   ],
   "source": [
    "L=[2,4,6,1,3,7,4,6,9,3,6,8,3,6,4,1,3,9,6,4,5,6,8,3,7,3,6,4,6,1,3,7,4,6,9,3,6,8,3,6,4,1,3,9,6,4,5,6,8,3,\n",
    "   7,3,4,6,1,3,7,4,6,9,3,6,8,3,6,4,1,3,9,6,4,5,6,8,3,\n",
    "   7,3,6,4,6,1,3,7,4,6,9,3,6,8,3,6,4,1,3,9,6,4,5,6,8,3,\n",
    "   7,3,4,6,1,3,7,4,6,9,3,6,8,3,6,4,1,3,9,6,4,5,6,8,33,8]\n",
    "n=int(input(\"enter the number of concative :\"))\n",
    "max=0\n",
    "for i in range (0,len(L)-n):\n",
    "    s=0\n",
    "    for j in range(0,n):\n",
    "        s=s+L[i+j]\n",
    "    if max<s:\n",
    "        max=s\n",
    "\n",
    "print(max)\n",
    "print(len(L))"
   ]
  },
  {
   "cell_type": "code",
   "execution_count": null,
   "id": "747d67b4-1efe-4c23-93ec-e57e579d75bf",
   "metadata": {},
   "outputs": [],
   "source": [
    "L=[2,4,6,1,3,7,4,6,9,3,6,8,3,6,4,1,3,9,6,4,5,6,8,3,7,3,6,4,6,1,3,7,4,6,9,3,6,8,3,6,4,1,3,9,6,4,5,6,8,3,\n",
    "   7,3,4,6,1,3,7,4,6,9,3,6,8,3,6,4,1,3,9,6,4,5,6,8,3,7,3,6,4,6,1,3,7,4,6,9,3,6,8,3,6,4,1,3,9,6,4,5,6,8,3,\n",
    "   7,3,4,6,1,3,7,4,6,9,3,6,8,3,6,4,1,3,9,6,4,5,6,8,33,8]\n",
    "n=int(input(\"enter the number of concative :\"))\n",
    "max=0\n",
    "for i in range (0,len(L)-n):\n",
    "    sum=sumL[i]\n",
    "    \n",
    "print(max)\n",
    "    \n",
    "    #silding window method \n"
   ]
  },
  {
   "cell_type": "code",
   "execution_count": 4,
   "id": "813c416a-8f9f-4f14-b3cd-ab2e97392b80",
   "metadata": {},
   "outputs": [
    {
     "ename": "NameError",
     "evalue": "name 'sort' is not defined",
     "output_type": "error",
     "traceback": [
      "\u001b[1;31m---------------------------------------------------------------------------\u001b[0m",
      "\u001b[1;31mNameError\u001b[0m                                 Traceback (most recent call last)",
      "Cell \u001b[1;32mIn[4], line 4\u001b[0m\n\u001b[0;32m      1\u001b[0m L\u001b[38;5;241m=\u001b[39m[\u001b[38;5;241m2\u001b[39m,\u001b[38;5;241m4\u001b[39m,\u001b[38;5;241m6\u001b[39m,\u001b[38;5;241m1\u001b[39m,\u001b[38;5;241m3\u001b[39m,\u001b[38;5;241m7\u001b[39m,\u001b[38;5;241m4\u001b[39m,\u001b[38;5;241m6\u001b[39m,\u001b[38;5;241m9\u001b[39m,\u001b[38;5;241m3\u001b[39m,\u001b[38;5;241m6\u001b[39m,\u001b[38;5;241m8\u001b[39m,\u001b[38;5;241m3\u001b[39m,\u001b[38;5;241m6\u001b[39m,\u001b[38;5;241m4\u001b[39m,\u001b[38;5;241m1\u001b[39m,\u001b[38;5;241m3\u001b[39m,\u001b[38;5;241m9\u001b[39m,\u001b[38;5;241m6\u001b[39m,\u001b[38;5;241m4\u001b[39m,\u001b[38;5;241m5\u001b[39m,\u001b[38;5;241m6\u001b[39m,\u001b[38;5;241m8\u001b[39m,\u001b[38;5;241m3\u001b[39m,\u001b[38;5;241m7\u001b[39m,\u001b[38;5;241m3\u001b[39m,\u001b[38;5;241m6\u001b[39m,\u001b[38;5;241m4\u001b[39m,\u001b[38;5;241m6\u001b[39m,\u001b[38;5;241m1\u001b[39m,\u001b[38;5;241m3\u001b[39m,\u001b[38;5;241m7\u001b[39m,\u001b[38;5;241m4\u001b[39m,\u001b[38;5;241m6\u001b[39m,\u001b[38;5;241m9\u001b[39m,\u001b[38;5;241m3\u001b[39m,\u001b[38;5;241m6\u001b[39m,\u001b[38;5;241m8\u001b[39m,\u001b[38;5;241m3\u001b[39m,\u001b[38;5;241m6\u001b[39m,\u001b[38;5;241m4\u001b[39m,\u001b[38;5;241m1\u001b[39m,\u001b[38;5;241m3\u001b[39m,\u001b[38;5;241m9\u001b[39m,\u001b[38;5;241m6\u001b[39m,\u001b[38;5;241m4\u001b[39m,\u001b[38;5;241m5\u001b[39m,\u001b[38;5;241m6\u001b[39m,\u001b[38;5;241m8\u001b[39m,\u001b[38;5;241m3\u001b[39m,\n\u001b[0;32m      2\u001b[0m    \u001b[38;5;241m7\u001b[39m,\u001b[38;5;241m3\u001b[39m,\u001b[38;5;241m4\u001b[39m,\u001b[38;5;241m6\u001b[39m,\u001b[38;5;241m1\u001b[39m,\u001b[38;5;241m3\u001b[39m,\u001b[38;5;241m7\u001b[39m,\u001b[38;5;241m4\u001b[39m,\u001b[38;5;241m6\u001b[39m,\u001b[38;5;241m9\u001b[39m,\u001b[38;5;241m3\u001b[39m,\u001b[38;5;241m6\u001b[39m,\u001b[38;5;241m8\u001b[39m,\u001b[38;5;241m3\u001b[39m,\u001b[38;5;241m6\u001b[39m,\u001b[38;5;241m4\u001b[39m,\u001b[38;5;241m1\u001b[39m,\u001b[38;5;241m3\u001b[39m,\u001b[38;5;241m9\u001b[39m,\u001b[38;5;241m6\u001b[39m,\u001b[38;5;241m4\u001b[39m,\u001b[38;5;241m5\u001b[39m,\u001b[38;5;241m6\u001b[39m,\u001b[38;5;241m8\u001b[39m,\u001b[38;5;241m3\u001b[39m,\u001b[38;5;241m7\u001b[39m,\u001b[38;5;241m3\u001b[39m,\u001b[38;5;241m6\u001b[39m,\u001b[38;5;241m4\u001b[39m,\u001b[38;5;241m6\u001b[39m,\u001b[38;5;241m1\u001b[39m,\u001b[38;5;241m3\u001b[39m,\u001b[38;5;241m7\u001b[39m,\u001b[38;5;241m4\u001b[39m,\u001b[38;5;241m6\u001b[39m,\u001b[38;5;241m9\u001b[39m,\u001b[38;5;241m3\u001b[39m,\u001b[38;5;241m6\u001b[39m,\u001b[38;5;241m8\u001b[39m,\u001b[38;5;241m3\u001b[39m,\u001b[38;5;241m6\u001b[39m,\u001b[38;5;241m4\u001b[39m,\u001b[38;5;241m1\u001b[39m,\u001b[38;5;241m3\u001b[39m,\u001b[38;5;241m9\u001b[39m,\u001b[38;5;241m6\u001b[39m,\u001b[38;5;241m4\u001b[39m,\u001b[38;5;241m5\u001b[39m,\u001b[38;5;241m6\u001b[39m,\u001b[38;5;241m8\u001b[39m,\u001b[38;5;241m3\u001b[39m,\n\u001b[0;32m      3\u001b[0m    \u001b[38;5;241m7\u001b[39m,\u001b[38;5;241m3\u001b[39m,\u001b[38;5;241m4\u001b[39m,\u001b[38;5;241m6\u001b[39m,\u001b[38;5;241m1\u001b[39m,\u001b[38;5;241m3\u001b[39m,\u001b[38;5;241m7\u001b[39m,\u001b[38;5;241m4\u001b[39m,\u001b[38;5;241m6\u001b[39m,\u001b[38;5;241m9\u001b[39m,\u001b[38;5;241m3\u001b[39m,\u001b[38;5;241m6\u001b[39m,\u001b[38;5;241m8\u001b[39m,\u001b[38;5;241m3\u001b[39m,\u001b[38;5;241m6\u001b[39m,\u001b[38;5;241m4\u001b[39m,\u001b[38;5;241m1\u001b[39m,\u001b[38;5;241m3\u001b[39m,\u001b[38;5;241m9\u001b[39m,\u001b[38;5;241m6\u001b[39m,\u001b[38;5;241m4\u001b[39m,\u001b[38;5;241m5\u001b[39m,\u001b[38;5;241m6\u001b[39m,\u001b[38;5;241m8\u001b[39m,\u001b[38;5;241m33\u001b[39m,\u001b[38;5;241m8\u001b[39m]\n\u001b[1;32m----> 4\u001b[0m l\u001b[38;5;241m=\u001b[39m\u001b[43msort\u001b[49m\u001b[38;5;241m.\u001b[39mreverse(L)\n\u001b[0;32m      5\u001b[0m \u001b[38;5;28mprint\u001b[39m(l)\n\u001b[0;32m      6\u001b[0m \u001b[38;5;66;03m#for i in range (0,len(L)):\u001b[39;00m\n",
      "\u001b[1;31mNameError\u001b[0m: name 'sort' is not defined"
     ]
    }
   ],
   "source": [
    "L=[2,4,6,1,3,7,4,6,9,3,6,8,3,6,4,1,3,9,6,4,5,6,8,3,7,3,6,4,6,1,3,7,4,6,9,3,6,8,3,6,4,1,3,9,6,4,5,6,8,3,\n",
    "   7,3,4,6,1,3,7,4,6,9,3,6,8,3,6,4,1,3,9,6,4,5,6,8,3,7,3,6,4,6,1,3,7,4,6,9,3,6,8,3,6,4,1,3,9,6,4,5,6,8,3,\n",
    "   7,3,4,6,1,3,7,4,6,9,3,6,8,3,6,4,1,3,9,6,4,5,6,8,33,8]\n"
   ]
  },
  {
   "cell_type": "code",
   "execution_count": 53,
   "id": "1f0ccc95-4202-4b5c-8915-9acb64ad94a9",
   "metadata": {},
   "outputs": [
    {
     "name": "stdout",
     "output_type": "stream",
     "text": [
      "[1, 2, 3, 4, 5, 6, 7, 8, 9]\n",
      "[9, 8, 7, 6, 5, 4, 3, 2, 1]\n",
      "17\n"
     ]
    }
   ],
   "source": [
    "l=[2,3,8,7,5,9,1,6,4]\n",
    "count=0 \n",
    "for i in range(len(l)):\n",
    "    for j in range(len(l)-1):\n",
    "        if l[j]>l[j+1]:\n",
    "            l[j],l[j+1] = l[j+1],l[j]\n",
    "            count+=1\n",
    "print(l)\n",
    "print(l[::-1])\n",
    "print(count)"
   ]
  },
  {
   "cell_type": "code",
   "execution_count": 39,
   "id": "ad47a2c8-7ff8-4f11-82c8-0143d16f65ff",
   "metadata": {},
   "outputs": [
    {
     "name": "stdout",
     "output_type": "stream",
     "text": [
      "[1, 2, 3, 4, 5, 6, 7, 8, 9]\n",
      "1\n"
     ]
    }
   ],
   "source": [
    "l=[2,3,8,7,5,9,1,6,4]\n",
    "l.sort()\n",
    "print()"
   ]
  },
  {
   "cell_type": "code",
   "execution_count": 57,
   "id": "d8272ce7-b2dc-459c-b2e6-8309036f86fc",
   "metadata": {},
   "outputs": [
    {
     "name": "stdout",
     "output_type": "stream",
     "text": [
      "[8, 9, 3, 7, 4, 6, 2, 5, 1]\n",
      "42\n"
     ]
    }
   ],
   "source": [
    "l=[2,3,8,7,5,9,1,6,4]\n"
   ]
  },
  {
   "cell_type": "code",
   "execution_count": 5,
   "id": "008ec070-06b6-48b9-8699-b615e8a7b4e9",
   "metadata": {},
   "outputs": [
    {
     "name": "stdout",
     "output_type": "stream",
     "text": [
      "[1, 2, 3, 4, 5, 6, 7, 8, 9]\n",
      "9\n"
     ]
    }
   ],
   "source": [
    "#Selection sort\n",
    "l=[2,3,8,7,5,9,1,6,4]\n",
    "count=0\n",
    "for i in range(0,len(l)):\n",
    "    count+=1\n",
    "    if l[i]>l[i]:\n",
    "        continue\n",
    "    else:\n",
    "        l.sort()\n",
    "print(l)\n",
    "print(count)\n"
   ]
  },
  {
   "cell_type": "code",
   "execution_count": 24,
   "id": "ee0f5a35-9e77-475d-a6cc-9abdf0532d10",
   "metadata": {},
   "outputs": [
    {
     "name": "stdout",
     "output_type": "stream",
     "text": [
      "[1, 2, 4, 3, 6, 5, 7, 8, 9]\n",
      "9\n"
     ]
    }
   ],
   "source": [
    "#selection sort \n",
    "l=[2,3,8,7,5,9,1,6,4]\n",
    "n=len(l)\n",
    "count=0\n",
    "for i in range(n):\n",
    "    min_index=i\n",
    "    for j in range (i+1,n):\n",
    "        if l[j] < l[min_index]:\n",
    "            min_index= j\n",
    "            l[i], l[min_index] = l[min_index], l[i]\n",
    "    count+=1\n",
    "print(l)\n",
    "print(count)"
   ]
  },
  {
   "cell_type": "code",
   "execution_count": 19,
   "id": "b7ffde92-7642-4a4b-b58c-aaa35c32eeaa",
   "metadata": {},
   "outputs": [
    {
     "name": "stdout",
     "output_type": "stream",
     "text": [
      "[1, 2, 3, 4, 5, 6, 7, 8, 9]\n",
      "17\n"
     ]
    }
   ],
   "source": [
    "#Insertion sort\n",
    "l=[2, 3, 8, 7, 5, 9, 1, 6, 4]\n",
    "n=len(l)\n",
    "count=0\n",
    "\n",
    "for i in range(1,n):\n",
    "    key = l[i]  \n",
    "    j = i - 1\n",
    "    while j >= 0 and key < l[j]:\n",
    "        l[j + 1] = l[j]  \n",
    "        j -= 1\n",
    "        count += 1\n",
    "    l[j + 1] = key  \n",
    "#print(l[i])\n",
    "print(l)\n",
    "print(count)\n",
    "\n"
   ]
  },
  {
   "cell_type": "code",
   "execution_count": 23,
   "id": "a53a8ea2-c60c-4e6b-98a2-a5fce8c569e0",
   "metadata": {},
   "outputs": [
    {
     "data": {
      "text/plain": [
       "1"
      ]
     },
     "execution_count": 23,
     "metadata": {},
     "output_type": "execute_result"
    }
   ],
   "source": [
    "l=[2,3,8,7,5,9,1,6,4]\n",
    "min(l)\n",
    "        "
   ]
  },
  {
   "cell_type": "code",
   "execution_count": null,
   "id": "50214f05-ae30-45e4-8fcd-0b2fbdaa71c5",
   "metadata": {},
   "outputs": [],
   "source": [
    "#BINARY SEARCH TREE"
   ]
  },
  {
   "cell_type": "code",
   "execution_count": null,
   "id": "8d43ace6-e109-434a-ac04-7585ed95a3de",
   "metadata": {},
   "outputs": [],
   "source": [
    "stack =input(\"enter the stack\")\n",
    "n=len(stack)\n",
    "for i in range (0,n):\n",
    "    if (i=-1)\n",
    "    print(\"stack is empty\"):\n",
    "else "
   ]
  }
 ],
 "metadata": {
  "kernelspec": {
   "display_name": "Python 3 (ipykernel)",
   "language": "python",
   "name": "python3"
  },
  "language_info": {
   "codemirror_mode": {
    "name": "ipython",
    "version": 3
   },
   "file_extension": ".py",
   "mimetype": "text/x-python",
   "name": "python",
   "nbconvert_exporter": "python",
   "pygments_lexer": "ipython3",
   "version": "3.12.3"
  }
 },
 "nbformat": 4,
 "nbformat_minor": 5
}
