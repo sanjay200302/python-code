{
 "cells": [
  {
   "cell_type": "code",
   "execution_count": 4,
   "id": "2b8fa24c-e986-4f6e-81c0-8d5aae2404c1",
   "metadata": {},
   "outputs": [
    {
     "name": "stdout",
     "output_type": "stream",
     "text": [
      "nohtyp a si erehT\n"
     ]
    }
   ],
   "source": [
    "string=\"There is a python\"\n",
    "print(string [::-1])"
   ]
  },
  {
   "cell_type": "code",
   "execution_count": 16,
   "id": "615d9d84-41f9-40ee-bfa4-225e8da9a2c5",
   "metadata": {},
   "outputs": [
    {
     "name": "stdout",
     "output_type": "stream",
     "text": [
      "['A', 'B', 'C', 'D', 'E', 'F', 'G']\n"
     ]
    }
   ],
   "source": [
    "A=[\"A\",\"B\",\"C\",\"D\",\"E\",\"F\",\"G\"]\n",
    "n=len(A)\n",
    "for i in range (n,0,-1):\n",
    "    continue\n",
    "\n",
    "print (A)"
   ]
  },
  {
   "cell_type": "code",
   "execution_count": 1,
   "id": "ba6aaa39-0c57-4aa2-8560-dde767516034",
   "metadata": {},
   "outputs": [
    {
     "name": "stdin",
     "output_type": "stream",
     "text": [
      " this is a car\n"
     ]
    },
    {
     "name": "stdout",
     "output_type": "stream",
     "text": [
      "rac a si siht"
     ]
    }
   ],
   "source": [
    "a=input()\n",
    "s=[]\n",
    "for w in a:\n",
    "    s.append(w)\n",
    "while len(s)>0:\n",
    "    print(s.pop(),end=\"\")\n",
    "    "
   ]
  },
  {
   "cell_type": "code",
   "execution_count": 3,
   "id": "7bda597b-3d7e-46f2-a459-5b8b6711ffd6",
   "metadata": {},
   "outputs": [
    {
     "name": "stdin",
     "output_type": "stream",
     "text": [
      " this is a car\n"
     ]
    },
    {
     "name": "stdout",
     "output_type": "stream",
     "text": [
      "car a is this "
     ]
    }
   ],
   "source": [
    "a=input()\n",
    "s=[]\n",
    "for w in a.split():\n",
    "    s.append(w)\n",
    "while len(s)>0:\n",
    "    \n",
    "    print(s.pop(),end=\" \")"
   ]
  },
  {
   "cell_type": "code",
   "execution_count": 6,
   "id": "0ec4d89c-6c7f-4173-84ee-4088e468ec5f",
   "metadata": {},
   "outputs": [
    {
     "name": "stdin",
     "output_type": "stream",
     "text": [
      " (a+b)*c\n"
     ]
    },
    {
     "ename": "NameError",
     "evalue": "name 'isdigit' is not defined",
     "output_type": "error",
     "traceback": [
      "\u001b[1;31m---------------------------------------------------------------------------\u001b[0m",
      "\u001b[1;31mNameError\u001b[0m                                 Traceback (most recent call last)",
      "Cell \u001b[1;32mIn[6], line 1\u001b[0m\n\u001b[1;32m----> 1\u001b[0m \u001b[38;5;28;43;01mclass\u001b[39;49;00m\u001b[43m \u001b[49m\u001b[38;5;21;43;01mdef_postfix\u001b[39;49;00m\u001b[43m(\u001b[49m\u001b[43m)\u001b[49m\u001b[43m:\u001b[49m\n\u001b[0;32m      2\u001b[0m \u001b[43m    \u001b[49m\u001b[43ma\u001b[49m\u001b[38;5;241;43m=\u001b[39;49m\u001b[38;5;28;43minput\u001b[39;49m\u001b[43m(\u001b[49m\u001b[43m)\u001b[49m\n\u001b[0;32m      3\u001b[0m \u001b[43m    \u001b[49m\u001b[43ms\u001b[49m\u001b[38;5;241;43m=\u001b[39;49m\u001b[43m[\u001b[49m\u001b[43m]\u001b[49m\n",
      "Cell \u001b[1;32mIn[6], line 5\u001b[0m, in \u001b[0;36mdef_postfix\u001b[1;34m()\u001b[0m\n\u001b[0;32m      3\u001b[0m s\u001b[38;5;241m=\u001b[39m[]\n\u001b[0;32m      4\u001b[0m \u001b[38;5;28;01mfor\u001b[39;00m s \u001b[38;5;129;01min\u001b[39;00m a:\n\u001b[1;32m----> 5\u001b[0m     \u001b[38;5;28;01mif\u001b[39;00m (a\u001b[38;5;241m==\u001b[39m\u001b[43misdigit\u001b[49m):\n\u001b[0;32m      6\u001b[0m         s\u001b[38;5;241m.\u001b[39mappend(ob1\u001b[38;5;241m+\u001b[39mob2)\n\u001b[0;32m      7\u001b[0m     \u001b[38;5;28;01melif\u001b[39;00m a\u001b[38;5;241m==\u001b[39m\u001b[38;5;124m\"\u001b[39m\u001b[38;5;124m(\u001b[39m\u001b[38;5;124m\"\u001b[39m:\n",
      "\u001b[1;31mNameError\u001b[0m: name 'isdigit' is not defined"
     ]
    }
   ],
   "source": [
    "class def_postfix():\n",
    "    a=input()\n",
    "    s=[]\n",
    "    for s in a:\n",
    "        if (a==isdigit):\n",
    "            s.append(ob1+ob2)\n",
    "        elif a==\"(\":\n",
    "            while s!=\")\":\n",
    "                s.append\n",
    "        else:\n",
    "            print (\"invalud\")\n",
    "if (s=='+'or'-'):\n",
    "    return(1)\n",
    "elif(s=='*' or '/' or'%'):\n",
    "    return(2)\n",
    "elif(s=='^'):\n",
    "    return(3)\n",
    "\n",
    "        \n"
   ]
  },
  {
   "cell_type": "code",
   "execution_count": 2,
   "id": "24955bc9-b5bd-40a5-ac68-25e70580a052",
   "metadata": {},
   "outputs": [
    {
     "ename": "NameError",
     "evalue": "name 'exp' is not defined",
     "output_type": "error",
     "traceback": [
      "\u001b[1;31m---------------------------------------------------------------------------\u001b[0m",
      "\u001b[1;31mNameError\u001b[0m                                 Traceback (most recent call last)",
      "Cell \u001b[1;32mIn[2], line 18\u001b[0m\n\u001b[0;32m     16\u001b[0m st\u001b[38;5;241m=\u001b[39m\u001b[38;5;124m\"\u001b[39m\u001b[38;5;124m \u001b[39m\u001b[38;5;124m\"\u001b[39m\n\u001b[0;32m     17\u001b[0m result\u001b[38;5;241m=\u001b[39m\u001b[38;5;124m\"\u001b[39m\u001b[38;5;124m \u001b[39m\u001b[38;5;124m\"\u001b[39m\n\u001b[1;32m---> 18\u001b[0m \u001b[38;5;28;01mfor\u001b[39;00m e \u001b[38;5;129;01min\u001b[39;00m \u001b[43mexp\u001b[49m:\n\u001b[0;32m     19\u001b[0m     \u001b[38;5;28;01mif\u001b[39;00m e\u001b[38;5;241m.\u001b[39misalnum()\u001b[38;5;241m==\u001b[39m\u001b[38;5;28;01mTrue\u001b[39;00m:\n\u001b[0;32m     20\u001b[0m         result\u001b[38;5;241m+\u001b[39m\u001b[38;5;241m=\u001b[39me\n",
      "\u001b[1;31mNameError\u001b[0m: name 'exp' is not defined"
     ]
    }
   ],
   "source": [
    "def proc(e):\n",
    "    if e==\"^\":\n",
    "        return 3\n",
    "    elif e==\"*\" or e==\"/\":\n",
    "        return 2\n",
    "    elif e==\"+\" or e==\"-\":\n",
    "        return 1\n",
    "    else:\n",
    "        return -1\n",
    "def asoc(e):\n",
    "    \n",
    "    \n",
    "    \n",
    " exp=input()\n",
    "s=[]\n",
    "st=\" \"\n",
    "result=\" \"\n",
    "for e in exp:\n",
    "    if e.isalnum()==True:\n",
    "        result+=e\n",
    "    elif e==\"(\":\n",
    "        s.append(e)\n",
    "    elif e==\")\":\n",
    "        while  s[-1]!='(':\n",
    "            result+=s.pop()\n",
    "        s.pop()\n",
    "    else:\n",
    "        while s and (proc(e)<proc(s[-1]) or (proc(e)==proc(s[-1]) and asoc(e)=='L')):\n",
    "            result+=s.pop()\n",
    "        s.append(e)\n",
    "while s:\n",
    "    result+=s.pop()\n",
    "\n",
    "print(result)"
   ]
  },
  {
   "cell_type": "code",
   "execution_count": 7,
   "id": "a39277a7-2690-4354-8b3e-336c1a45e92c",
   "metadata": {},
   "outputs": [
    {
     "ename": "SyntaxError",
     "evalue": "invalid syntax (1320174196.py, line 5)",
     "output_type": "error",
     "traceback": [
      "\u001b[1;36m  Cell \u001b[1;32mIn[7], line 5\u001b[1;36m\u001b[0m\n\u001b[1;33m    s.del()\u001b[0m\n\u001b[1;37m      ^\u001b[0m\n\u001b[1;31mSyntaxError\u001b[0m\u001b[1;31m:\u001b[0m invalid syntax\n"
     ]
    }
   ],
   "source": [
    "s=[\"apple\",\"dal\",\"rice\",\"rice\",\"chapati\"]\n",
    "        "
   ]
  },
  {
   "cell_type": "code",
   "execution_count": 8,
   "id": "80b8af7d-a388-4f31-9cf9-0c68e3a591f3",
   "metadata": {},
   "outputs": [
    {
     "name": "stdin",
     "output_type": "stream",
     "text": [
      " A D Q R T\n"
     ]
    },
    {
     "name": "stdout",
     "output_type": "stream",
     "text": [
      "['A', 'D', 'Q', 'R', 'T']\n",
      "5 ['A', 'D', 'Q', 'R', 'T']\n"
     ]
    }
   ],
   "source": [
    "a=[item for item in input().split()]\n",
    "print(a)\n",
    "s=[]\n",
    "for item in a:\n",
    "    if not s:\n",
    "        s.append(item)\n",
    "    elif s[-1] == item:\n",
    "        s.pop(),,\n",
    "    else:\n",
    "        s.append(item)\n",
    "print(len(s),s)"
   ]
  },
  {
   "cell_type": "code",
   "execution_count": 6,
   "id": "98fc0eee-8dd9-4976-ab61-50554592bfb1",
   "metadata": {},
   "outputs": [
    {
     "name": "stdin",
     "output_type": "stream",
     "text": [
      " []\n"
     ]
    },
    {
     "name": "stdout",
     "output_type": "stream",
     "text": [
      "invalid\n"
     ]
    }
   ],
   "source": [
    "#balance brackting eg:\n",
    "s=input()\n",
    "S=[]\n",
    "for e in  s:\n",
    "    if e=='(' or e=='{'or e=='[':\n",
    "        S.append(e)\n",
    "    elif (e==')' and S[-1]=='(') or (e=='}' and S[-1]=='{')or (e==']'and S[-1]=='['):\n",
    "        if e==S[-1]:\n",
    "            S.pop()\n",
    "        else:\n",
    "            break;\n",
    "    else:\n",
    "        continue\n",
    "if not s:\n",
    "    print (\"valid\")\n",
    "else:\n",
    "    print (\"invalid\")"
   ]
  },
  {
   "cell_type": "code",
   "execution_count": 21,
   "id": "86533ac1-70dc-4a7f-9c24-c415c348956e",
   "metadata": {},
   "outputs": [
    {
     "name": "stdin",
     "output_type": "stream",
     "text": [
      " 45\n"
     ]
    }
   ],
   "source": [
    "#recurrence\n",
    "x=int (input ())\n",
    "\n",
    "def fun(x):\n",
    "    if x==0:\n",
    "        return x\n",
    "    print(x)    \n",
    "    return fun(x-1)\n"
   ]
  },
  {
   "cell_type": "code",
   "execution_count": null,
   "id": "3fa8910d-2db9-45f0-b89d-24912ec4ba6c",
   "metadata": {},
   "outputs": [],
   "source": []
  }
 ],
 "metadata": {
  "kernelspec": {
   "display_name": "Python 3 (ipykernel)",
   "language": "python",
   "name": "python3"
  },
  "language_info": {
   "codemirror_mode": {
    "name": "ipython",
    "version": 3
   },
   "file_extension": ".py",
   "mimetype": "text/x-python",
   "name": "python",
   "nbconvert_exporter": "python",
   "pygments_lexer": "ipython3",
   "version": "3.12.3"
  }
 },
 "nbformat": 4,
 "nbformat_minor": 5
}
