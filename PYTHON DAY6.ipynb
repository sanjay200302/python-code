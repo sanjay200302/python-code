{
 "cells": [
  {
   "cell_type": "code",
   "execution_count": 1,
   "id": "cb0e9e70-aa1e-4966-9c62-8d94b1631250",
   "metadata": {},
   "outputs": [
    {
     "ename": "TypeError",
     "evalue": "Car() takes no arguments",
     "output_type": "error",
     "traceback": [
      "\u001b[1;31m---------------------------------------------------------------------------\u001b[0m",
      "\u001b[1;31mTypeError\u001b[0m                                 Traceback (most recent call last)",
      "Cell \u001b[1;32mIn[1], line 34\u001b[0m\n\u001b[0;32m     30\u001b[0m         \u001b[38;5;28mprint\u001b[39m(\u001b[38;5;124mf\u001b[39m\u001b[38;5;124m\"\u001b[39m\u001b[38;5;124mNumber of Axles: \u001b[39m\u001b[38;5;132;01m{\u001b[39;00m\u001b[38;5;28mself\u001b[39m\u001b[38;5;241m.\u001b[39maxle\u001b[38;5;132;01m}\u001b[39;00m\u001b[38;5;124m, Load Capacity: \u001b[39m\u001b[38;5;132;01m{\u001b[39;00m\u001b[38;5;28mself\u001b[39m\u001b[38;5;241m.\u001b[39mload_capacity\u001b[38;5;132;01m}\u001b[39;00m\u001b[38;5;124m\"\u001b[39m)\n\u001b[0;32m     33\u001b[0m \u001b[38;5;66;03m# Example usage:\u001b[39;00m\n\u001b[1;32m---> 34\u001b[0m car1 \u001b[38;5;241m=\u001b[39m \u001b[43mCar\u001b[49m\u001b[43m(\u001b[49m\u001b[38;5;124;43m\"\u001b[39;49m\u001b[38;5;124;43mV8\u001b[39;49m\u001b[38;5;124;43m\"\u001b[39;49m\u001b[43m,\u001b[49m\u001b[43m \u001b[49m\u001b[38;5;124;43m\"\u001b[39;49m\u001b[38;5;124;43mABC123\u001b[39;49m\u001b[38;5;124;43m\"\u001b[39;49m\u001b[43m,\u001b[49m\u001b[43m \u001b[49m\u001b[38;5;241;43m50000\u001b[39;49m\u001b[43m,\u001b[49m\u001b[43m \u001b[49m\u001b[38;5;124;43m\"\u001b[39;49m\u001b[38;5;124;43mRed\u001b[39;49m\u001b[38;5;124;43m\"\u001b[39;49m\u001b[43m,\u001b[49m\u001b[43m \u001b[49m\u001b[38;5;124;43m\"\u001b[39;49m\u001b[38;5;124;43mSUV\u001b[39;49m\u001b[38;5;124;43m\"\u001b[39;49m\u001b[43m,\u001b[49m\u001b[43m \u001b[49m\u001b[38;5;241;43m5\u001b[39;49m\u001b[43m,\u001b[49m\u001b[43m \u001b[49m\u001b[38;5;241;43m180\u001b[39;49m\u001b[43m)\u001b[49m\n\u001b[0;32m     35\u001b[0m car1\u001b[38;5;241m.\u001b[39mdetails()\n\u001b[0;32m     37\u001b[0m truck1 \u001b[38;5;241m=\u001b[39m Truck(\u001b[38;5;124m\"\u001b[39m\u001b[38;5;124mV12\u001b[39m\u001b[38;5;124m\"\u001b[39m, \u001b[38;5;124m\"\u001b[39m\u001b[38;5;124mXYZ789\u001b[39m\u001b[38;5;124m\"\u001b[39m, \u001b[38;5;241m80000\u001b[39m, \u001b[38;5;124m\"\u001b[39m\u001b[38;5;124mBlue\u001b[39m\u001b[38;5;124m\"\u001b[39m, \u001b[38;5;241m4\u001b[39m, \u001b[38;5;241m5000\u001b[39m)\n",
      "\u001b[1;31mTypeError\u001b[0m: Car() takes no arguments"
     ]
    }
   ],
   "source": [
    "class Vehicle:\n",
    "    def _init_(self, engine, reg_plate, price, color):\n",
    "        self.engine = engine\n",
    "        self.reg_plate = reg_plate\n",
    "        self.price = price\n",
    "        self.color = color\n",
    "    \n",
    "    def vehicle_details(self):\n",
    "        print(f\"Engine: {self.engine}cc, Register Plate: {self.reg_plate}, Price: {self.price}, Color: {self.color}\")\n",
    "\n",
    "class Car(Vehicle):\n",
    "    def _init_(self, engine, reg_plate, price, color, car_type, seats, max_speed):\n",
    "        super()._init_(engine, reg_plate, price, color)\n",
    "        self.type = car_type\n",
    "        self.seats = seats\n",
    "        self.max_speed = max_speed\n",
    "\n",
    "    def details(self):\n",
    "        super().vehicle_details()\n",
    "        print(f\"Type: {self.type}, Number of Seats: {self.seats}, Max Speed: {self.max_speed}\")\n",
    "\n",
    "class Truck(Vehicle):\n",
    "    def _init_(self, engine, reg_plate, price, color, axle, load_capacity):\n",
    "        super()._init_(engine, reg_plate, price, color)\n",
    "        self.axle = axle\n",
    "        self.load_capacity = load_capacity\n",
    "\n",
    "    def details(self):\n",
    "        super().vehicle_details()\n",
    "        print(f\"Number of Axles: {self.axle}, Load Capacity: {self.load_capacity}\")\n",
    "\n",
    "\n",
    "# Example usage:\n",
    "car1 = Car(\"V8\", \"ABC123\", 70000, \"Red\", \"SUV\", 5, 180)\n",
    "car1.details()\n",
    "\n",
    "truck1 = Truck(\"V12\", \"XYZ789\", 80000, \"Blue\", 4, 5000)\n",
    "truck1.details()"
   ]
  },
  {
   "cell_type": "code",
   "execution_count": 24,
   "id": "5bd5a7f5-ade8-41f7-9fc0-00e28f3d604b",
   "metadata": {},
   "outputs": [
    {
     "ename": "AttributeError",
     "evalue": "'tuple' object has no attribute 'engine'",
     "output_type": "error",
     "traceback": [
      "\u001b[1;31m---------------------------------------------------------------------------\u001b[0m",
      "\u001b[1;31mAttributeError\u001b[0m                            Traceback (most recent call last)",
      "Cell \u001b[1;32mIn[24], line 23\u001b[0m\n\u001b[0;32m     21\u001b[0m \u001b[38;5;28;01mif\u001b[39;00m \u001b[38;5;18m__name__\u001b[39m \u001b[38;5;241m==\u001b[39m \u001b[38;5;124m\"\u001b[39m\u001b[38;5;124m__main__\u001b[39m\u001b[38;5;124m\"\u001b[39m:\n\u001b[0;32m     22\u001b[0m     access \u001b[38;5;241m=\u001b[39m (\u001b[38;5;124m\"\u001b[39m\u001b[38;5;124msedan\u001b[39m\u001b[38;5;124m\"\u001b[39m, \u001b[38;5;241m4\u001b[39m, \u001b[38;5;241m200\u001b[39m, \u001b[38;5;124m\"\u001b[39m\u001b[38;5;124m2 stroke\u001b[39m\u001b[38;5;124m\"\u001b[39m, \u001b[38;5;124m\"\u001b[39m\u001b[38;5;124mKA34-0987\u001b[39m\u001b[38;5;124m\"\u001b[39m, \u001b[38;5;241m80000\u001b[39m, \u001b[38;5;124m\"\u001b[39m\u001b[38;5;124mmatte-black\u001b[39m\u001b[38;5;124m\"\u001b[39m)\n\u001b[1;32m---> 23\u001b[0m     \u001b[38;5;28mprint\u001b[39m(\u001b[43maccess\u001b[49m\u001b[38;5;241;43m.\u001b[39;49m\u001b[43mengine\u001b[49m)\n\u001b[0;32m     24\u001b[0m     \u001b[38;5;28mprint\u001b[39m(access\u001b[38;5;241m.\u001b[39mregplate)\n\u001b[0;32m     25\u001b[0m     \u001b[38;5;28mprint\u001b[39m(access\u001b[38;5;241m.\u001b[39mprice)\n",
      "\u001b[1;31mAttributeError\u001b[0m: 'tuple' object has no attribute 'engine'"
     ]
    }
   ],
   "source": [
    "class Vehicle:\n",
    "    def _init_(self, e, r, p, c):\n",
    "        self.engine = e\n",
    "        self.regplate = r\n",
    "        self.price = p\n",
    "        self.colour = c\n",
    "\n",
    "class Car(Vehicle):\n",
    "    def _init_(self, t, n, m, e, r, p, c):\n",
    "        super()._init_(e, r, p, c)\n",
    "        self.type = t\n",
    "        self.noofpassanger = n\n",
    "        self.maxspeed = m\n",
    "\n",
    "class Truck(Vehicle):\n",
    "    def _init_(self, no, l, e, r, p, c):\n",
    "        super()._init_(e, r, p, c)\n",
    "        self.numberofaxle = no\n",
    "        self.loadcapacity = l\n",
    "\n",
    "if __name__ == \"__main__\":\n",
    "    access = (\"sedan\", 4, 200, \"2 stroke\", \"KA34-0987\", 80000, \"matte-black\")\n",
    "    print(access.engine)\n",
    "    print(access.regplate)\n",
    "    print(access.price)\n",
    "    print(access.colour)\n",
    "    print(access.type)\n",
    "    print(access.noofpassanger)\n",
    "    print(access.maxspeed)"
   ]
  },
  {
   "cell_type": "code",
   "execution_count": 21,
   "id": "0e4e9fe7-6fdf-4c0a-9b9a-bea7ba54f91f",
   "metadata": {},
   "outputs": [
    {
     "name": "stdout",
     "output_type": "stream",
     "text": [
      "2 sa 200 20 10000\n"
     ]
    }
   ],
   "source": [
    "class employ:\n",
    "    def __init__(self,eid,ename,esalary):\n",
    "        self.eid=eid\n",
    "        self.ename=ename\n",
    "        self.esalary=esalary\n",
    "       # A=print(self.eid,self.ename,self.esalary)\n",
    "class sstaff(employ):\n",
    "    def __init__(self,wt,wa,eid,ename,esalary):\n",
    "        super().__init__(eid,ename,esalary)\n",
    "        self.wt=wt\n",
    "        self.wa=wa\n",
    "class developer(employ):\n",
    "    def __init__(self,m,t,e,eid,ename,esalary):\n",
    "        super().__init__(eid,ename,esalary)\n",
    "        self.m=m\n",
    "        self.t=t\n",
    "        self.e=e\n",
    "class manager(employ):\n",
    "    def __init__(self,p,cn,eid,ename,esalary):\n",
    "        super().__init__(eid,ename,esalary)\n",
    "        self.p=m\n",
    "        self.cn=cn\n",
    "if __name__==\"__main__\":\n",
    "    acess=sstaff(2,\"sa\",200,20,10000)\n",
    "   \n",
    "    print(acess.wt,acess.wa,acess.eid,acess.ename,acess.esalary)"
   ]
  },
  {
   "cell_type": "code",
   "execution_count": 22,
   "id": "9199d00d-e208-4214-b655-4b53b192e394",
   "metadata": {},
   "outputs": [
    {
     "ename": "SyntaxError",
     "evalue": "expected ':' (950066355.py, line 2)",
     "output_type": "error",
     "traceback": [
      "\u001b[1;36m  Cell \u001b[1;32mIn[22], line 2\u001b[1;36m\u001b[0m\n\u001b[1;33m    def __init__(self,)\u001b[0m\n\u001b[1;37m                       ^\u001b[0m\n\u001b[1;31mSyntaxError\u001b[0m\u001b[1;31m:\u001b[0m expected ':'\n"
     ]
    }
   ],
   "source": [
    "class vehical:\n",
    "    def __init__(self,)\n"
   ]
  },
  {
   "cell_type": "code",
   "execution_count": 28,
   "id": "8197efcd-2cb4-460f-a537-454a6baed21f",
   "metadata": {},
   "outputs": [
    {
     "name": "stdin",
     "output_type": "stream",
     "text": [
      "enter the number of ittreation: 3\n"
     ]
    },
    {
     "name": "stdout",
     "output_type": "stream",
     "text": [
      "\n",
      "#\n",
      "##\n",
      "###\n"
     ]
    }
   ],
   "source": [
    "#a=int(input(\"enter the number of element:-\")) \n",
    "n=int(input(\"enter the number of ittreation:\"))\n",
    "for i in range (-1,int(n)):\n",
    "    for j in range(-1,i):\n",
    "        print(\"#\",end='')\n",
    "    print('')"
   ]
  },
  {
   "cell_type": "code",
   "execution_count": 57,
   "id": "fe92bf9d-1266-4009-a350-7691cc5dd9e4",
   "metadata": {},
   "outputs": [
    {
     "name": "stdout",
     "output_type": "stream",
     "text": [
      "* * * * *  \n",
      "*       *  \n",
      "*       *  \n",
      "*       *  \n",
      "* * * * *  \n"
     ]
    }
   ],
   "source": [
    "for i in range(0,5):\n",
    "    for j in range(0,5):\n",
    "        if i==0 or j==0 or i==4 or j==4:\n",
    "            print(\"*\",end=\" \")\n",
    "        else:\n",
    "            print(\" \",end=\" \")\n",
    "    print(\" \")"
   ]
  },
  {
   "cell_type": "code",
   "execution_count": 49,
   "id": "95cfbc1b-12ac-4185-924d-e4357d641535",
   "metadata": {},
   "outputs": [
    {
     "name": "stdout",
     "output_type": "stream",
     "text": [
      "*****\n",
      "****\n",
      "***\n",
      "**\n",
      "*\n"
     ]
    }
   ],
   "source": [
    "for i in range(5,0,-1):\n",
    "    for j in range(i,0,-1):\n",
    "        print(\"*\",end='')\n",
    "    print(\"\")"
   ]
  },
  {
   "cell_type": "code",
   "execution_count": 54,
   "id": "a6969cab-69f8-4f93-9b06-2f050abef470",
   "metadata": {},
   "outputs": [
    {
     "name": "stdout",
     "output_type": "stream",
     "text": [
      " \n",
      "1  \n",
      "0 1  \n",
      "1 0 1  \n",
      "0 1 0 1  \n"
     ]
    }
   ],
   "source": [
    "for i in range (0,5):\n",
    "    for j in range (0,i):\n",
    "        if(i+j)%2==0:\n",
    "            print (\"0\",end=\" \")\n",
    "        else:\n",
    "            print(\"1\",end=\" \")\n",
    "    print(\" \")\n",
    "            "
   ]
  },
  {
   "cell_type": "code",
   "execution_count": 61,
   "id": "84a75c17-6ef2-47c0-b8af-7fef5cd3b9af",
   "metadata": {},
   "outputs": [
    {
     "name": "stdout",
     "output_type": "stream",
     "text": [
      "* * * * *  \n",
      "*       *  \n",
      "*       *  \n",
      "*       *  \n",
      "* * * * *  \n"
     ]
    }
   ],
   "source": [
    "for i in range(0,5):\n",
    "    for j in range(0,5):\n",
    "        if i==0 or j==0 or i==4 or j==4:\n",
    "            print(\"*\",end=\" \")\n",
    "        else:\n",
    "            print(\" \",end=\" \")\n",
    "    print(\" \")"
   ]
  },
  {
   "cell_type": "code",
   "execution_count": 63,
   "id": "c0009869-c174-4138-98d4-e9d52765403c",
   "metadata": {},
   "outputs": [
    {
     "name": "stdin",
     "output_type": "stream",
     "text": [
      "enter the number of ittreation: 5\n"
     ]
    },
    {
     "name": "stdout",
     "output_type": "stream",
     "text": [
      "1\n",
      "22\n",
      "333\n",
      "4444\n"
     ]
    }
   ],
   "source": [
    "n=int(input(\"enter the number of ittreation:\"))\n",
    "for i in range (1,int(n)):\n",
    "    for j in range(0,i):\n",
    "        print(i,end='')\n",
    "    print('')"
   ]
  },
  {
   "cell_type": "code",
   "execution_count": 73,
   "id": "ee7861bf-ab37-4929-9033-b7db74a02ba8",
   "metadata": {},
   "outputs": [
    {
     "name": "stdout",
     "output_type": "stream",
     "text": [
      " \n",
      "1  \n",
      "2 3  \n",
      "4 5 6  \n",
      "7 8 9 10  \n",
      "11 12 13 14 15  \n"
     ]
    }
   ],
   "source": [
    "num=1\n",
    "for i in range (0,6):\n",
    "    for j in range (0,i):\n",
    "        print(f\"{num}\",end=' ')\n",
    "        num+=1\n",
    "    print(' ')"
   ]
  },
  {
   "cell_type": "code",
   "execution_count": 75,
   "id": "eeca24d0-f0dd-4807-a904-2865c26c9018",
   "metadata": {},
   "outputs": [
    {
     "name": "stdout",
     "output_type": "stream",
     "text": [
      " \n",
      " 1  \n",
      " 1  2  \n",
      " 1  2  3  \n",
      " 1  2  3  4  \n"
     ]
    }
   ],
   "source": [
    "for i in range (1,6):\n",
    "    for j in range (1,i):\n",
    "        print(\"\",j,end=' ')\n",
    "       \n",
    "    print(' ')"
   ]
  },
  {
   "cell_type": "code",
   "execution_count": 76,
   "id": "77cebc91-f632-4f07-8ce0-86b850998f1e",
   "metadata": {},
   "outputs": [
    {
     "name": "stdout",
     "output_type": "stream",
     "text": [
      " 6  5  4  3  2  1  \n",
      " 5  4  3  2  1  \n",
      " 4  3  2  1  \n",
      " 3  2  1  \n",
      " 2  1  \n",
      " 1  \n"
     ]
    }
   ],
   "source": [
    "for i in range (6,0,-1):\n",
    "    for j in range (i,0,-1):\n",
    "        print(\"\",j,end=' ')\n",
    "       \n",
    "    print(' ')"
   ]
  },
  {
   "cell_type": "code",
   "execution_count": 79,
   "id": "5de74361-6efd-44b8-8261-2a6fe7c1fe62",
   "metadata": {},
   "outputs": [
    {
     "name": "stdout",
     "output_type": "stream",
     "text": [
      "1 2 3 4  \n",
      "5 6 7  \n",
      "8 9  \n",
      "10  \n"
     ]
    }
   ],
   "source": [
    "num=1\n",
    "for i in range (4,0,-1):\n",
    "    for j in range (i,0,-1):\n",
    "        print(f\"{num}\",end=' ')\n",
    "        num+=1\n",
    "    print(' ')"
   ]
  },
  {
   "cell_type": "code",
   "execution_count": 94,
   "id": "e7d7d269-8a4c-4b8d-9b48-be79c492ea56",
   "metadata": {},
   "outputs": [
    {
     "name": "stdout",
     "output_type": "stream",
     "text": [
      "* * * * * *  \n",
      "* * * * *  \n",
      "* * * *  \n",
      "* * *  \n",
      "* *  \n",
      "*  \n",
      "* *  \n",
      "* * *  \n",
      "* * * *  \n",
      "* * * * *  \n",
      "* * * * * *  \n"
     ]
    }
   ],
   "source": [
    "for i in range (6,0,-1):\n",
    "    for j in range (i,0,-1):\n",
    "        print(\"*\",end=' ')\n",
    "    print(' ')\n",
    "for i in range (2,7):\n",
    "    for j in range (0,i):\n",
    "        print(\"* \",end='')\n",
    "    print(' ')"
   ]
  },
  {
   "cell_type": "code",
   "execution_count": 106,
   "id": "a8afac2a-ad0a-4a6a-bfc0-0ace43ef210f",
   "metadata": {},
   "outputs": [
    {
     "name": "stdin",
     "output_type": "stream",
     "text": [
      " 9\n"
     ]
    },
    {
     "name": "stdout",
     "output_type": "stream",
     "text": [
      "                * \n",
      "              * * * \n",
      "            * * * * * \n",
      "          * * * * * * * \n",
      "        * * * * * * * * * \n",
      "      * * * * * * * * * * * \n",
      "    * * * * * * * * * * * * * \n",
      "  * * * * * * * * * * * * * * * \n",
      "* * * * * * * * * * * * * * * * * \n",
      "  * * * * * * * * * * * * * * * \n",
      "    * * * * * * * * * * * * * \n",
      "      * * * * * * * * * * * \n",
      "        * * * * * * * * * \n",
      "          * * * * * * * \n",
      "            * * * * * \n",
      "              * * * \n",
      "                * \n"
     ]
    }
   ],
   "source": [
    "n=int(input())\n",
    "for i in range(1,n+1):\n",
    "         for j in range(1,n-i+1):\n",
    "             print(\" \",end=\" \")\n",
    "         for j in range(0,2*i-1):\n",
    "             print(\"*\",end=\" \")\n",
    "         print()\n",
    "for i in range(n-1,0,-1):\n",
    "         for j in range(1,n-i+1):\n",
    "             print(\" \",end=\" \")\n",
    "         for j in range(0,2*i-1):\n",
    "             print(\"*\",end=\" \")\n",
    "         print()"
   ]
  },
  {
   "cell_type": "code",
   "execution_count": 102,
   "id": "ce942bc6-87c9-40ea-8611-d3ed5f9b0072",
   "metadata": {},
   "outputs": [
    {
     "name": "stdin",
     "output_type": "stream",
     "text": [
      "enter the number: 5\n"
     ]
    },
    {
     "name": "stdout",
     "output_type": "stream",
     "text": [
      "  0 1 2 3 4 5 6 \n",
      "    0 1 2 3 4 \n",
      "      0 1 2 \n",
      "        0 \n"
     ]
    }
   ],
   "source": [
    "n=int(input(\"enter the number:\"))\n",
    "for i in range(n-1,0,-1):\n",
    "         for j in range(1,n-i+1):\n",
    "             print(\" \",end=\" \")\n",
    "         for j in range(0,2*i-1):\n",
    "             print(j,end=\" \")\n",
    "         print()"
   ]
  },
  {
   "cell_type": "code",
   "execution_count": 103,
   "id": "3ff9c27a-39a5-416e-b14c-7d536ada0d69",
   "metadata": {},
   "outputs": [
    {
     "name": "stdin",
     "output_type": "stream",
     "text": [
      " 5\n"
     ]
    },
    {
     "name": "stdout",
     "output_type": "stream",
     "text": [
      "        0 \n",
      "      0 1 2 \n",
      "    0 1 2 3 4 \n",
      "  0 1 2 3 4 5 6 \n",
      "0 1 2 3 4 5 6 7 8 \n"
     ]
    }
   ],
   "source": [
    "n=int(input())\n",
    "for i in range(1,n+1):\n",
    "         for j in range(1,n-i+1):\n",
    "             print(\" \",end=\" \")\n",
    "         for j in range(0,2*i-1):\n",
    "             print(j,end=\" \")\n",
    "         print()"
   ]
  },
  {
   "cell_type": "code",
   "execution_count": 2,
   "id": "a4ff3549-51fd-47d0-9654-266f9b16f9ce",
   "metadata": {},
   "outputs": [
    {
     "name": "stdin",
     "output_type": "stream",
     "text": [
      " 5\n"
     ]
    },
    {
     "name": "stdout",
     "output_type": "stream",
     "text": [
      "        * \n",
      "      *   * \n",
      "    *       * \n",
      "  *           * \n",
      "* * * * * * * * * \n"
     ]
    }
   ],
   "source": [
    "n=int(input())\n",
    "for i in range(1,n+1):\n",
    "    if i==1 or i==n:\n",
    "         for j in range(1,n-i+1):\n",
    "             print(\" \",end=\" \")\n",
    "         for j in range(0,2*i-1):\n",
    "             print(\"*\",end=\" \")\n",
    "         print()\n",
    "    else:\n",
    "        for j in range(1,n-i+1):\n",
    "            print(\" \",end=\" \")\n",
    "        for j in range(0,2*i-1):\n",
    "            if j==0 or j==2*i-2:\n",
    "                print(\"*\",end=\" \")\n",
    "            else:\n",
    "                print(\" \",end=\" \")\n",
    "        print()\n",
    "\n"
   ]
  },
  {
   "cell_type": "code",
   "execution_count": null,
   "id": "4e333c77-56cb-42b4-aac1-b14c305103d4",
   "metadata": {},
   "outputs": [],
   "source": [
    "Data Structure\n"
   ]
  },
  {
   "cell_type": "code",
   "execution_count": 12,
   "id": "5558f01d-b09e-4e7b-af62-4efda563655a",
   "metadata": {},
   "outputs": [
    {
     "name": "stdin",
     "output_type": "stream",
     "text": [
      "enter the target: 7\n"
     ]
    }
   ],
   "source": [
    "num =[ 1,2,3,4,5,6,7]\n",
    "target=int(input(\"enter the target:\"))\n",
    "sum=num[i]+num[i+1]\n",
    "if(sum == target):\n",
    "    print(\"target\",target)\n",
    "    print(num[i],num[i+1])\n",
    "    \n"
   ]
  },
  {
   "cell_type": "code",
   "execution_count": null,
   "id": "927f1202-d464-434f-a8d9-4a6a6e3578e6",
   "metadata": {},
   "outputs": [],
   "source": []
  },
  {
   "cell_type": "code",
   "execution_count": null,
   "id": "7bc583d0-76dc-4529-8533-6ab32459acdc",
   "metadata": {},
   "outputs": [],
   "source": []
  }
 ],
 "metadata": {
  "kernelspec": {
   "display_name": "Python 3 (ipykernel)",
   "language": "python",
   "name": "python3"
  },
  "language_info": {
   "codemirror_mode": {
    "name": "ipython",
    "version": 3
   },
   "file_extension": ".py",
   "mimetype": "text/x-python",
   "name": "python",
   "nbconvert_exporter": "python",
   "pygments_lexer": "ipython3",
   "version": "3.12.3"
  }
 },
 "nbformat": 4,
 "nbformat_minor": 5
}
