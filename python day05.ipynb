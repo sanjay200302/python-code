{
 "cells": [
  {
   "cell_type": "markdown",
   "id": "b129c4c5-a8c7-40b0-98ac-cc3bf3c056c2",
   "metadata": {},
   "source": [
    "CLASS \n",
    "class keyword class_name:\n",
    "class  def :{\n",
    "\n",
    "}\n",
    "its how class is created \n",
    "its contain a default arguments\n",
    "python has 2 argument intence (hp.b)and class\n",
    "_init_scope resolution\n",
    "and its is constructor for the class \n",
    "in python we always use \"\n",
    "2.access modifier\n",
    "public \n",
    "private _\n",
    "protected __\n",
    "3.inheritance:\n",
    "->show keyword , init , super keyword\n",
    "overloding \n",
    "overriding \n",
    "\n",
    "\n",
    "\n",
    "\n",
    "\n",
    "\n"
   ]
  },
  {
   "cell_type": "code",
   "execution_count": 7,
   "id": "3f5c4a14-4d91-4a47-9877-6cbe76abb5ef",
   "metadata": {},
   "outputs": [
    {
     "name": "stdin",
     "output_type": "stream",
     "text": [
      "enter the laptop : 2020\n"
     ]
    },
    {
     "name": "stdout",
     "output_type": "stream",
     "text": [
      "2020\n",
      "0\n"
     ]
    }
   ],
   "source": [
    "class laptop:\n",
    "    b=0\n",
    "    def config(self):\n",
    "        #self keyword universal for each class function \n",
    "        a=input(\"enter the laptop :\")\n",
    "        print(a)\n",
    "hp = laptop()\n",
    "hp.config()\n",
    "print(hp.b)\n",
    "    "
   ]
  },
  {
   "cell_type": "code",
   "execution_count": 12,
   "id": "b598baed-16c3-4a0b-88bd-44285c99ce8e",
   "metadata": {},
   "outputs": [
    {
     "name": "stdin",
     "output_type": "stream",
     "text": [
      "enter the processor: 20\n",
      "enter the ram 20\n",
      "enter the storage 20\n"
     ]
    },
    {
     "ename": "NameError",
     "evalue": "name 'self' is not defined",
     "output_type": "error",
     "traceback": [
      "\u001b[1;31m---------------------------------------------------------------------------\u001b[0m",
      "\u001b[1;31mNameError\u001b[0m                                 Traceback (most recent call last)",
      "Cell \u001b[1;32mIn[12], line 12\u001b[0m\n\u001b[0;32m      9\u001b[0m     \u001b[38;5;28mself\u001b[39m\u001b[38;5;241m.\u001b[39mram \u001b[38;5;241m=\u001b[39m ram\n\u001b[0;32m     10\u001b[0m     \u001b[38;5;28mself\u001b[39m\u001b[38;5;241m.\u001b[39mstorage \u001b[38;5;241m=\u001b[39m storage\n\u001b[1;32m---> 12\u001b[0m \u001b[38;5;28mprint\u001b[39m(\u001b[38;5;124m\"\u001b[39m\u001b[38;5;124mprocessor\u001b[39m\u001b[38;5;124m\"\u001b[39m,\u001b[38;5;28;43mself\u001b[39;49m\u001b[38;5;241m.\u001b[39mprocessor)\n\u001b[0;32m     13\u001b[0m \u001b[38;5;28mprint\u001b[39m(\u001b[38;5;124m\"\u001b[39m\u001b[38;5;124mram\u001b[39m\u001b[38;5;124m\"\u001b[39m,\u001b[38;5;28mself\u001b[39m\u001b[38;5;241m.\u001b[39mram)\n\u001b[0;32m     14\u001b[0m \u001b[38;5;28mprint\u001b[39m(\u001b[38;5;124m\"\u001b[39m\u001b[38;5;124mstorage\u001b[39m\u001b[38;5;124m\"\u001b[39m,\u001b[38;5;28mself\u001b[39m\u001b[38;5;241m.\u001b[39mstorage)\n",
      "\u001b[1;31mNameError\u001b[0m: name 'self' is not defined"
     ]
    }
   ],
   "source": [
    "\n",
    "class laptop:\n",
    "  processor = input(\"enter the processor:\")\n",
    "  ram = input(\"enter the ram\")\n",
    "  storage = input(\"enter the storage\")\n",
    "\n",
    "class Computer:\n",
    "  def __init__(self,processor, ram, storage):\n",
    "    self.processor = processor\n",
    "    self.ram = ram\n",
    "    self.storage = storage\n",
    "\n",
    "print(\"processor\",self.processor)\n",
    "print(\"ram\",self.ram)\n",
    "print(\"storage\",self.storage)\n"
   ]
  },
  {
   "cell_type": "code",
   "execution_count": 21,
   "id": "9747398f-3814-425a-b15b-8217f58e396c",
   "metadata": {},
   "outputs": [
    {
     "name": "stdout",
     "output_type": "stream",
     "text": [
      "configuration of laptop is\n",
      "processor i5\n",
      "ram 8\n",
      "storage 256\n"
     ]
    }
   ],
   "source": [
    "class laptop:\n",
    "    a=0\n",
    "    \n",
    "    def __init__(self, processor, ram, storage):\n",
    "        self.processor = processor\n",
    "        self.ram = ram\n",
    "        self.storage = storage\n",
    "\n",
    "    def config(self):\n",
    "        print(\"configuration of laptop is\")\n",
    "        print(\"processor\",self.processor)\n",
    "        print(\"ram\",self.ram)\n",
    "        print(\"storage\",self.storage)\n",
    "if __name__==\"__main__\":   #defining a main function \n",
    "    hp=laptop(\"i5\",8,256)\n",
    "    hp.config()"
   ]
  },
  {
   "cell_type": "markdown",
   "id": "5f27dc06-836a-43a7-8807-1399f9e3d2a9",
   "metadata": {},
   "source": []
  },
  {
   "cell_type": "code",
   "execution_count": 28,
   "id": "4217d1d7-1048-48e3-a43a-622d0bb81989",
   "metadata": {},
   "outputs": [
    {
     "name": "stdout",
     "output_type": "stream",
     "text": [
      "enter the student\n",
      "hindi 60\n",
      "kannada 39\n",
      "sience 40\n",
      "socialscience 77\n",
      "maths 99\n",
      "average  63.0\n"
     ]
    }
   ],
   "source": [
    "class student:\n",
    "    def __init__(self,h,k,s,ss,m):\n",
    "        self.hindi=h\n",
    "        self.kannada=k\n",
    "        self.science=s\n",
    "        self.socialscience=ss\n",
    "        self.maths=m\n",
    "    def config(self):\n",
    "        print(\"enter the student\")\n",
    "        print(\"hindi\",self.hindi)\n",
    "        print(\"kannada\",self.kannada)\n",
    "        print(\"sience\",self.science)\n",
    "        print(\"socialscience\",self.socialscience)\n",
    "        print(\"maths\",self.maths)\n",
    "    def avg(self):\n",
    "        avg=((self.hindi+self.kannada+self.science+self.socialscience+self.maths)/5)\n",
    "        print(\"average \",avg)\n",
    "if __name__==\"__main__\":\n",
    "    marks=student(60,39,40,77,99)\n",
    "    marks.config()\n",
    "    marks.avg()"
   ]
  },
  {
   "cell_type": "code",
   "execution_count": 10,
   "id": "6eca2c92-ace2-4bad-9dff-aad19b64e8e5",
   "metadata": {},
   "outputs": [
    {
     "name": "stdout",
     "output_type": "stream",
     "text": [
      "this is fun1\n",
      "this is fun2\n",
      "this is fun3\n",
      "this is fun4\n",
      "this is fun5\n",
      "this is fun6\n"
     ]
    }
   ],
   "source": [
    "#inheritance\n",
    "class a(b):\n",
    "    def fun1(self):\n",
    "        print(\"this is fun1\")\n",
    "    def fun2(self):\n",
    "        print(\"this is fun2\")\n",
    "class b(a):\n",
    "    def fun3(self):\n",
    "        print(\"this is fun3\")\n",
    "    def fun4(self):\n",
    "        print(\"this is fun4\")\n",
    "class c(b,a):\n",
    "    def fun5(self):\n",
    "        print(\"this is fun5\")\n",
    "    def fun4(self):\n",
    "        print(\"this is fun6\")\n",
    "if __name__==\"__main__\":\n",
    "    ob1=a()\n",
    "    ob2=b()\n",
    "    ob3=c()\n",
    "    ob1.fun1()\n",
    "    ob1.fun2()\n",
    "    ob2.fun3()\n",
    "    ob2.fun4()\n",
    "    ob3.fun5()\n",
    "    ob3.fun4()\n",
    "    "
   ]
  },
  {
   "cell_type": "code",
   "execution_count": 1,
   "id": "84f5bdd1-7385-4999-998d-e4b326932c62",
   "metadata": {},
   "outputs": [
    {
     "ename": "NameError",
     "evalue": "name 'prof_lap' is not defined",
     "output_type": "error",
     "traceback": [
      "\u001b[1;31m---------------------------------------------------------------------------\u001b[0m",
      "\u001b[1;31mNameError\u001b[0m                                 Traceback (most recent call last)",
      "Cell \u001b[1;32mIn[1], line 14\u001b[0m\n\u001b[0;32m     12\u001b[0m         \u001b[38;5;28mself\u001b[39m\u001b[38;5;241m.\u001b[39mgpu\u001b[38;5;241m=\u001b[39mgpu\n\u001b[0;32m     13\u001b[0m         \u001b[38;5;28mself\u001b[39m\u001b[38;5;241m.\u001b[39msuper(processor , ram , storage)\n\u001b[1;32m---> 14\u001b[0m pro1\u001b[38;5;241m=\u001b[39m\u001b[43mprof_lap\u001b[49m(\u001b[38;5;124m\"\u001b[39m\u001b[38;5;124m6hr\u001b[39m\u001b[38;5;124m\"\u001b[39m,\u001b[38;5;124m\"\u001b[39m\u001b[38;5;124mi5\u001b[39m\u001b[38;5;124m\"\u001b[39m,\u001b[38;5;241m8\u001b[39m,\u001b[38;5;241m512\u001b[39m)\n\u001b[0;32m     15\u001b[0m gam1\u001b[38;5;241m=\u001b[39mgaming_laptop(\u001b[38;5;124m\"\u001b[39m\u001b[38;5;124m6hr\u001b[39m\u001b[38;5;124m\"\u001b[39m,\u001b[38;5;124m\"\u001b[39m\u001b[38;5;124mi5\u001b[39m\u001b[38;5;124m\"\u001b[39m,\u001b[38;5;241m8\u001b[39m,\u001b[38;5;241m512\u001b[39m)\n\u001b[0;32m     16\u001b[0m \u001b[38;5;28mprint\u001b[39m(\u001b[38;5;124m\"\u001b[39m\u001b[38;5;124mprocessor laptop have \u001b[39m\u001b[38;5;124m\"\u001b[39m,prof1\u001b[38;5;241m.\u001b[39mprocessor,prof1\u001b[38;5;241m.\u001b[39mram,\n\u001b[0;32m     17\u001b[0m      prof1\u001b[38;5;241m.\u001b[39mstorage,prof1\u001b[38;5;241m.\u001b[39mbattery)        \n",
      "\u001b[1;31mNameError\u001b[0m: name 'prof_lap' is not defined"
     ]
    }
   ],
   "source": [
    "class laptop:\n",
    "    def __init__(self, processor, ram, storage):\n",
    "        self.processor = processor\n",
    "        self.ram = ram\n",
    "        self.storage = storage\n",
    "class prof_laptop(laptop):\n",
    "    def __init__(self,battery,processor, ram, storage):\n",
    "        self.battery=bat\n",
    "        self.super(processor , ram , storage)\n",
    "class gaming_laptop(laptop):\n",
    "    def __init__(self,gpu,processor, ram, storage):\n",
    "        self.gpu=gpu\n",
    "        self.super(processor , ram , storage)\n",
    "pro1=prof_lap(\"6hr\",\"i5\",8,512)\n",
    "gam1=gaming_laptop(\"6hr\",\"i5\",8,512)\n",
    "print(\"processor laptop have \",prof1.processor,prof1.ram,\n",
    "     prof1.storage,prof1.battery)        "
   ]
  },
  {
   "cell_type": "code",
   "execution_count": 13,
   "id": "8f057c7e-0fb9-4d1c-86a6-acd94afeaa8b",
   "metadata": {},
   "outputs": [
    {
     "name": "stdout",
     "output_type": "stream",
     "text": [
      "Ticket booked Fare Price will be:  6550\n"
     ]
    }
   ],
   "source": [
    "class ticket:\n",
    "   \n",
    "    def __init__(self,D):\n",
    "        self.distance = int(D)\n",
    "        self.farePrice = None\n",
    "\n",
    "class gen(ticket):\n",
    "    def __init__(self,D):\n",
    "        super().__init__(D)\n",
    "    def print_ticket(self):\n",
    "        self.farePrice=50+(self.distance*2)\n",
    "        return self.farePrice\n",
    "        \n",
    "\n",
    "\n",
    "class slp(gen):\n",
    "    def __init__(self,D):\n",
    "        super().__init__(D)\n",
    "\n",
    "    def print_ticket(self):\n",
    "        self.farePrice=super().print_ticket()+(2*self.distance)\n",
    "        return self.farePrice\n",
    "\n",
    "class AC(slp):\n",
    "    def __init__(self,D):\n",
    "        super().__init__(D)\n",
    "    def print_ticket(self):\n",
    "        self.farePrice=super().print_ticket()+(4*self.distance)\n",
    "        return self.farePrice\n",
    "\n",
    "class FC(AC):\n",
    "    def __init__(self,D):\n",
    "        super().__init__(D)\n",
    "    def print_ticket(self):\n",
    "        self.farePrice=super().print_ticket()+(5*self.distance)\n",
    "        return self.farePrice\n",
    "\n",
    "\n",
    "jur = FC(500)\n",
    "print(\"Ticket booked Fare Price will be: \",jur.print_ticket())"
   ]
  },
  {
   "cell_type": "code",
   "execution_count": null,
   "id": "42ed0733-754c-4799-b490-4cdfd44a9d03",
   "metadata": {},
   "outputs": [],
   "source": []
  }
 ],
 "metadata": {
  "kernelspec": {
   "display_name": "Python 3 (ipykernel)",
   "language": "python",
   "name": "python3"
  },
  "language_info": {
   "codemirror_mode": {
    "name": "ipython",
    "version": 3
   },
   "file_extension": ".py",
   "mimetype": "text/x-python",
   "name": "python",
   "nbconvert_exporter": "python",
   "pygments_lexer": "ipython3",
   "version": "3.12.3"
  }
 },
 "nbformat": 4,
 "nbformat_minor": 5
}
