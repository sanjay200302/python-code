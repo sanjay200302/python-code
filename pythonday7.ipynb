{
 "cells": [
  {
   "cell_type": "code",
   "execution_count": 14,
   "id": "cb0e9e70-aa1e-4966-9c62-8d94b1631250",
   "metadata": {},
   "outputs": [
    {
     "name": "stdout",
     "output_type": "stream",
     "text": [
      "the biggest sum of 3 number: 200\n"
     ]
    }
   ],
   "source": [
    "L=[2,4,6,3,2,4,4,9,2,4,5,100,45,55]\n",
    "\n",
    "#find the  maximu SUM of any 3 consecutive elements of this array\n",
    "for i in range (0,len(L)-2):\n",
    "    sum=L[i]+L[i+1]+L[i+2]\n",
    "    max_sum=max(max_sum,sum)\n",
    "print(\"the biggest sum of 3 number:\",max_sum)"
   ]
  },
  {
   "cell_type": "code",
   "execution_count": null,
   "id": "3bdaa5e7-628b-4f0d-9b9f-9f7b4f9e2f58",
   "metadata": {},
   "outputs": [],
   "source": []
  }
 ],
 "metadata": {
  "kernelspec": {
   "display_name": "Python 3 (ipykernel)",
   "language": "python",
   "name": "python3"
  },
  "language_info": {
   "codemirror_mode": {
    "name": "ipython",
    "version": 3
   },
   "file_extension": ".py",
   "mimetype": "text/x-python",
   "name": "python",
   "nbconvert_exporter": "python",
   "pygments_lexer": "ipython3",
   "version": "3.12.3"
  }
 },
 "nbformat": 4,
 "nbformat_minor": 5
}
