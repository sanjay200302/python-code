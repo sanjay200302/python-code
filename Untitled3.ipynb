{
 "cells": [
  {
   "cell_type": "code",
   "execution_count": 1,
   "id": "3864b014-f386-41c3-acb2-020b9b94d61a",
   "metadata": {},
   "outputs": [
    {
     "name": "stdout",
     "output_type": "stream",
     "text": [
      "i is not a numeric\n"
     ]
    }
   ],
   "source": [
    "# H.W(17/04/2024)\n",
    "#Write a Python program to find the sum of all elements in a list and handle the case where the list contains non-numeric values.\n",
    "a=int(input(\"enter the size of list\")#[1,2,3,4,5,6]\n",
    "\n",
    "try:\n",
    "    sum(a[i])\n",
    "    print(\"sum of a[i]\",a[i])\n",
    "except:\n",
    "    print(\"i is not a numeric\")"
   ]
  },
  {
   "cell_type": "code",
   "execution_count": null,
   "id": "864343d7-767a-4eef-b2c7-5e5a6721ff9d",
   "metadata": {},
   "outputs": [],
   "source": []
  }
 ],
 "metadata": {
  "kernelspec": {
   "display_name": "Python 3 (ipykernel)",
   "language": "python",
   "name": "python3"
  },
  "language_info": {
   "codemirror_mode": {
    "name": "ipython",
    "version": 3
   },
   "file_extension": ".py",
   "mimetype": "text/x-python",
   "name": "python",
   "nbconvert_exporter": "python",
   "pygments_lexer": "ipython3",
   "version": "3.12.3"
  }
 },
 "nbformat": 4,
 "nbformat_minor": 5
}
