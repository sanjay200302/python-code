{
 "cells": [
  {
   "cell_type": "code",
   "execution_count": null,
   "id": "d6ec258a-f7e3-4bd9-8139-dafce22b8282",
   "metadata": {},
   "outputs": [],
   "source": []
  }
 ],
 "metadata": {
  "kernelspec": {
   "display_name": "",
   "name": ""
  },
  "language_info": {
   "name": ""
  }
 },
 "nbformat": 4,
 "nbformat_minor": 5
}
