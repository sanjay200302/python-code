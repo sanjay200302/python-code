{
 "cells": [
  {
   "cell_type": "code",
   "execution_count": 16,
   "id": "cda2abdc-9507-4223-b41c-38211241103f",
   "metadata": {},
   "outputs": [
    {
     "name": "stdin",
     "output_type": "stream",
     "text": [
      " 2\n"
     ]
    },
    {
     "name": "stdout",
     "output_type": "stream",
     "text": [
      "0\n",
      "2\n",
      "4\n",
      "6\n",
      "8\n",
      "10\n",
      "12\n",
      "14\n",
      "16\n",
      "18\n",
      "20\n"
     ]
    }
   ],
   "source": [
    "n=input()\n",
    "for i in range(0,11):\n",
    "    mul=i*2\n",
    "    print(mul)"
   ]
  },
  {
   "cell_type": "code",
   "execution_count": 18,
   "id": "00fad7e6-0adc-400a-8ed2-e148a576e46f",
   "metadata": {},
   "outputs": [
    {
     "name": "stdout",
     "output_type": "stream",
     "text": [
      "2\n",
      "4\n",
      "6\n",
      "8\n",
      "10\n",
      "12\n",
      "14\n",
      "16\n",
      "18\n",
      "20\n"
     ]
    }
   ],
   "source": [
    "for i in range (1,11):\n",
    "    print(i*2)"
   ]
  },
  {
   "cell_type": "code",
   "execution_count": 3,
   "id": "35f09062-6ebe-455c-b096-c4a949b77752",
   "metadata": {},
   "outputs": [],
   "source": [
    "#recurssion\n",
    "def fun(x):\n",
    "    x=input()\n",
    "    if (x==11):\n",
    "        return\n",
    "    else:\n",
    "        print(x*2)\n",
    "        x=x+1\n",
    "        fun(x)\n",
    "        return\n",
    " "
   ]
  },
  {
   "cell_type": "code",
   "execution_count": 37,
   "id": "f6c389d6-363b-40e3-9a85-fb5e14ca1a94",
   "metadata": {},
   "outputs": [
    {
     "name": "stdin",
     "output_type": "stream",
     "text": [
      " 3\n"
     ]
    },
    {
     "name": "stdout",
     "output_type": "stream",
     "text": [
      "6\n"
     ]
    }
   ],
   "source": [
    "fact=1\n",
    "n=int(input())\n",
    "for i in range(n,1,-1):\n",
    "    fact*=i\n",
    "print(fact)\n",
    "        \n",
    "    "
   ]
  },
  {
   "cell_type": "code",
   "execution_count": 49,
   "id": "639f7001-4a2b-4e8d-b429-4335b09010d5",
   "metadata": {},
   "outputs": [
    {
     "name": "stdin",
     "output_type": "stream",
     "text": [
      " 5\n"
     ]
    },
    {
     "name": "stdout",
     "output_type": "stream",
     "text": [
      "120\n"
     ]
    }
   ],
   "source": [
    "m=1\n",
    "n=int (input ())\n",
    "for i in range(n,1,-1):\n",
    "    m*=i\n",
    "print(m)"
   ]
  },
  {
   "cell_type": "code",
   "execution_count": 67,
   "id": "a41e3fc2-26dc-4d5e-be3f-e0b91e5f7611",
   "metadata": {},
   "outputs": [
    {
     "name": "stdin",
     "output_type": "stream",
     "text": [
      " 3\n"
     ]
    },
    {
     "data": {
      "text/plain": [
       "6"
      ]
     },
     "execution_count": 67,
     "metadata": {},
     "output_type": "execute_result"
    }
   ],
   "source": [
    "i=int(input())\n",
    "def fun(i):\n",
    "    if i==1:\n",
    "        return 1\n",
    "    else:\n",
    "        n=i*fun(i-1)\n",
    "        return n\n",
    "fun(i)"
   ]
  },
  {
   "cell_type": "code",
   "execution_count": 14,
   "id": "f6a028bc-1bf7-413c-b588-c60102d7d0c2",
   "metadata": {},
   "outputs": [
    {
     "name": "stdout",
     "output_type": "stream",
     "text": [
      "[1, 2, 3, 4, 5, 6, 7, 8, 9]\n"
     ]
    }
   ],
   "source": [
    "m=[1,2,7,6,3,8,5,9,4]\n",
    "low=0\n",
    "high=len(m)-1\n",
    "def findpi(m,low,high):\n",
    "    pe=m[high]\n",
    "    j=low-1\n",
    "    for i in range(low ,high):\n",
    "        if pe>m[i]:\n",
    "            j+=1\n",
    "            m[i],m[j]=m[j],m[i]\n",
    "    m[high],m[j+1]=m[j+1],m[high]\n",
    "    return j+1\n",
    "\n",
    "def quicksort(m,low,high):\n",
    "    if low < high:\n",
    "        pi=findpi(m,low,high)\n",
    "        quicksort(m,low,pi-1)\n",
    "        quicksort(m,pi+1,high)\n",
    "    \n",
    "    \n",
    "    \n",
    "    \n",
    "\n",
    "m=[1,2,7,6,3,8,5,9,4]\n",
    "quicksort(m,0,len(m)-1)\n",
    "print(m)\n",
    "\n"
   ]
  },
  {
   "cell_type": "code",
   "execution_count": null,
   "id": "8bcd2df6-a25c-4cfc-9233-c982ae7240cf",
   "metadata": {},
   "outputs": [],
   "source": [
    "#linked list :\n",
    "\n"
   ]
  }
 ],
 "metadata": {
  "kernelspec": {
   "display_name": "Python 3 (ipykernel)",
   "language": "python",
   "name": "python3"
  },
  "language_info": {
   "codemirror_mode": {
    "name": "ipython",
    "version": 3
   },
   "file_extension": ".py",
   "mimetype": "text/x-python",
   "name": "python",
   "nbconvert_exporter": "python",
   "pygments_lexer": "ipython3",
   "version": "3.12.3"
  }
 },
 "nbformat": 4,
 "nbformat_minor": 5
}
